{
  "nbformat": 4,
  "nbformat_minor": 0,
  "metadata": {
    "colab": {
      "provenance": []
    },
    "kernelspec": {
      "name": "python3",
      "display_name": "Python 3"
    },
    "language_info": {
      "name": "python"
    }
  },
  "cells": [
    {
      "cell_type": "code",
      "source": [
        "!pip install mediapipe-model-maker"
      ],
      "metadata": {
        "colab": {
          "base_uri": "https://localhost:8080/"
        },
        "id": "yIiJbIr5ekHI",
        "outputId": "f92cbbbe-2b34-4a64-c033-d06a662d68e4"
      },
      "execution_count": null,
      "outputs": [
        {
          "output_type": "stream",
          "name": "stdout",
          "text": [
            "Looking in indexes: https://pypi.org/simple, https://us-python.pkg.dev/colab-wheels/public/simple/\n",
            "Requirement already satisfied: mediapipe-model-maker in /usr/local/lib/python3.8/dist-packages (0.1.0.2)\n",
            "Requirement already satisfied: opencv-python in /usr/local/lib/python3.8/dist-packages (from mediapipe-model-maker) (4.6.0.66)\n",
            "Requirement already satisfied: absl-py in /usr/local/lib/python3.8/dist-packages (from mediapipe-model-maker) (1.3.0)\n",
            "Requirement already satisfied: tf-models-official>=2.10.1 in /usr/local/lib/python3.8/dist-packages (from mediapipe-model-maker) (2.11.2)\n",
            "Requirement already satisfied: tensorflow>=2.10 in /usr/local/lib/python3.8/dist-packages (from mediapipe-model-maker) (2.11.0)\n",
            "Requirement already satisfied: tensorflow-hub in /usr/local/lib/python3.8/dist-packages (from mediapipe-model-maker) (0.12.0)\n",
            "Requirement already satisfied: tensorflow-datasets in /usr/local/lib/python3.8/dist-packages (from mediapipe-model-maker) (4.8.1)\n",
            "Requirement already satisfied: mediapipe==0.9.0.1 in /usr/local/lib/python3.8/dist-packages (from mediapipe-model-maker) (0.9.0.1)\n",
            "Requirement already satisfied: numpy in /usr/local/lib/python3.8/dist-packages (from mediapipe-model-maker) (1.21.6)\n",
            "Requirement already satisfied: flatbuffers>=2.0 in /usr/local/lib/python3.8/dist-packages (from mediapipe==0.9.0.1->mediapipe-model-maker) (23.1.4)\n",
            "Requirement already satisfied: protobuf<4,>=3.11 in /usr/local/lib/python3.8/dist-packages (from mediapipe==0.9.0.1->mediapipe-model-maker) (3.19.6)\n",
            "Requirement already satisfied: matplotlib in /usr/local/lib/python3.8/dist-packages (from mediapipe==0.9.0.1->mediapipe-model-maker) (3.2.2)\n",
            "Requirement already satisfied: attrs>=19.1.0 in /usr/local/lib/python3.8/dist-packages (from mediapipe==0.9.0.1->mediapipe-model-maker) (22.2.0)\n",
            "Requirement already satisfied: opencv-contrib-python in /usr/local/lib/python3.8/dist-packages (from mediapipe==0.9.0.1->mediapipe-model-maker) (4.6.0.66)\n",
            "Requirement already satisfied: tensorboard<2.12,>=2.11 in /usr/local/lib/python3.8/dist-packages (from tensorflow>=2.10->mediapipe-model-maker) (2.11.2)\n",
            "Requirement already satisfied: google-pasta>=0.1.1 in /usr/local/lib/python3.8/dist-packages (from tensorflow>=2.10->mediapipe-model-maker) (0.2.0)\n",
            "Requirement already satisfied: tensorflow-estimator<2.12,>=2.11.0 in /usr/local/lib/python3.8/dist-packages (from tensorflow>=2.10->mediapipe-model-maker) (2.11.0)\n",
            "Requirement already satisfied: typing-extensions>=3.6.6 in /usr/local/lib/python3.8/dist-packages (from tensorflow>=2.10->mediapipe-model-maker) (4.4.0)\n",
            "Requirement already satisfied: tensorflow-io-gcs-filesystem>=0.23.1 in /usr/local/lib/python3.8/dist-packages (from tensorflow>=2.10->mediapipe-model-maker) (0.29.0)\n",
            "Requirement already satisfied: libclang>=13.0.0 in /usr/local/lib/python3.8/dist-packages (from tensorflow>=2.10->mediapipe-model-maker) (14.0.6)\n",
            "Requirement already satisfied: setuptools in /usr/local/lib/python3.8/dist-packages (from tensorflow>=2.10->mediapipe-model-maker) (57.4.0)\n",
            "Requirement already satisfied: wrapt>=1.11.0 in /usr/local/lib/python3.8/dist-packages (from tensorflow>=2.10->mediapipe-model-maker) (1.14.1)\n",
            "Requirement already satisfied: h5py>=2.9.0 in /usr/local/lib/python3.8/dist-packages (from tensorflow>=2.10->mediapipe-model-maker) (3.1.0)\n",
            "Requirement already satisfied: termcolor>=1.1.0 in /usr/local/lib/python3.8/dist-packages (from tensorflow>=2.10->mediapipe-model-maker) (2.2.0)\n",
            "Requirement already satisfied: keras<2.12,>=2.11.0 in /usr/local/lib/python3.8/dist-packages (from tensorflow>=2.10->mediapipe-model-maker) (2.11.0)\n",
            "Requirement already satisfied: astunparse>=1.6.0 in /usr/local/lib/python3.8/dist-packages (from tensorflow>=2.10->mediapipe-model-maker) (1.6.3)\n",
            "Requirement already satisfied: gast<=0.4.0,>=0.2.1 in /usr/local/lib/python3.8/dist-packages (from tensorflow>=2.10->mediapipe-model-maker) (0.4.0)\n",
            "Requirement already satisfied: opt-einsum>=2.3.2 in /usr/local/lib/python3.8/dist-packages (from tensorflow>=2.10->mediapipe-model-maker) (3.3.0)\n",
            "Requirement already satisfied: six>=1.12.0 in /usr/local/lib/python3.8/dist-packages (from tensorflow>=2.10->mediapipe-model-maker) (1.15.0)\n",
            "Requirement already satisfied: packaging in /usr/local/lib/python3.8/dist-packages (from tensorflow>=2.10->mediapipe-model-maker) (21.3)\n",
            "Requirement already satisfied: grpcio<2.0,>=1.24.3 in /usr/local/lib/python3.8/dist-packages (from tensorflow>=2.10->mediapipe-model-maker) (1.51.1)\n",
            "Requirement already satisfied: opencv-python-headless in /usr/local/lib/python3.8/dist-packages (from tf-models-official>=2.10.1->mediapipe-model-maker) (4.7.0.68)\n",
            "Requirement already satisfied: pyyaml<6.0,>=5.1 in /usr/local/lib/python3.8/dist-packages (from tf-models-official>=2.10.1->mediapipe-model-maker) (5.4.1)\n",
            "Requirement already satisfied: tf-slim>=1.1.0 in /usr/local/lib/python3.8/dist-packages (from tf-models-official>=2.10.1->mediapipe-model-maker) (1.1.0)\n",
            "Requirement already satisfied: Cython in /usr/local/lib/python3.8/dist-packages (from tf-models-official>=2.10.1->mediapipe-model-maker) (0.29.32)\n",
            "Requirement already satisfied: py-cpuinfo>=3.3.0 in /usr/local/lib/python3.8/dist-packages (from tf-models-official>=2.10.1->mediapipe-model-maker) (9.0.0)\n",
            "Requirement already satisfied: scipy>=0.19.1 in /usr/local/lib/python3.8/dist-packages (from tf-models-official>=2.10.1->mediapipe-model-maker) (1.7.3)\n",
            "Requirement already satisfied: oauth2client in /usr/local/lib/python3.8/dist-packages (from tf-models-official>=2.10.1->mediapipe-model-maker) (4.1.3)\n",
            "Requirement already satisfied: Pillow in /usr/local/lib/python3.8/dist-packages (from tf-models-official>=2.10.1->mediapipe-model-maker) (7.1.2)\n",
            "Requirement already satisfied: sacrebleu in /usr/local/lib/python3.8/dist-packages (from tf-models-official>=2.10.1->mediapipe-model-maker) (2.3.1)\n",
            "Requirement already satisfied: sentencepiece in /usr/local/lib/python3.8/dist-packages (from tf-models-official>=2.10.1->mediapipe-model-maker) (0.1.97)\n",
            "Requirement already satisfied: psutil>=5.4.3 in /usr/local/lib/python3.8/dist-packages (from tf-models-official>=2.10.1->mediapipe-model-maker) (5.4.8)\n",
            "Requirement already satisfied: pandas>=0.22.0 in /usr/local/lib/python3.8/dist-packages (from tf-models-official>=2.10.1->mediapipe-model-maker) (1.3.5)\n",
            "Requirement already satisfied: seqeval in /usr/local/lib/python3.8/dist-packages (from tf-models-official>=2.10.1->mediapipe-model-maker) (1.2.2)\n",
            "Requirement already satisfied: gin-config in /usr/local/lib/python3.8/dist-packages (from tf-models-official>=2.10.1->mediapipe-model-maker) (0.5.0)\n",
            "Requirement already satisfied: pycocotools in /usr/local/lib/python3.8/dist-packages (from tf-models-official>=2.10.1->mediapipe-model-maker) (2.0.6)\n",
            "Requirement already satisfied: google-api-python-client>=1.6.7 in /usr/local/lib/python3.8/dist-packages (from tf-models-official>=2.10.1->mediapipe-model-maker) (2.70.0)\n",
            "Requirement already satisfied: kaggle>=1.3.9 in /usr/local/lib/python3.8/dist-packages (from tf-models-official>=2.10.1->mediapipe-model-maker) (1.5.12)\n",
            "Requirement already satisfied: tensorflow-model-optimization>=0.4.1 in /usr/local/lib/python3.8/dist-packages (from tf-models-official>=2.10.1->mediapipe-model-maker) (0.7.3)\n",
            "Requirement already satisfied: immutabledict in /usr/local/lib/python3.8/dist-packages (from tf-models-official>=2.10.1->mediapipe-model-maker) (2.2.3)\n",
            "Requirement already satisfied: tensorflow-text~=2.11.0 in /usr/local/lib/python3.8/dist-packages (from tf-models-official>=2.10.1->mediapipe-model-maker) (2.11.0)\n",
            "Requirement already satisfied: tensorflow-addons in /usr/local/lib/python3.8/dist-packages (from tf-models-official>=2.10.1->mediapipe-model-maker) (0.19.0)\n",
            "Requirement already satisfied: dill in /usr/local/lib/python3.8/dist-packages (from tensorflow-datasets->mediapipe-model-maker) (0.3.6)\n",
            "Requirement already satisfied: etils[enp,epath]>=0.9.0 in /usr/local/lib/python3.8/dist-packages (from tensorflow-datasets->mediapipe-model-maker) (0.9.0)\n",
            "Requirement already satisfied: promise in /usr/local/lib/python3.8/dist-packages (from tensorflow-datasets->mediapipe-model-maker) (2.3)\n",
            "Requirement already satisfied: dm-tree in /usr/local/lib/python3.8/dist-packages (from tensorflow-datasets->mediapipe-model-maker) (0.1.8)\n",
            "Requirement already satisfied: importlib-resources in /usr/local/lib/python3.8/dist-packages (from tensorflow-datasets->mediapipe-model-maker) (5.10.2)\n",
            "Requirement already satisfied: requests>=2.19.0 in /usr/local/lib/python3.8/dist-packages (from tensorflow-datasets->mediapipe-model-maker) (2.25.1)\n",
            "Requirement already satisfied: tensorflow-metadata in /usr/local/lib/python3.8/dist-packages (from tensorflow-datasets->mediapipe-model-maker) (1.12.0)\n",
            "Requirement already satisfied: toml in /usr/local/lib/python3.8/dist-packages (from tensorflow-datasets->mediapipe-model-maker) (0.10.2)\n",
            "Requirement already satisfied: tqdm in /usr/local/lib/python3.8/dist-packages (from tensorflow-datasets->mediapipe-model-maker) (4.64.1)\n",
            "Requirement already satisfied: click in /usr/local/lib/python3.8/dist-packages (from tensorflow-datasets->mediapipe-model-maker) (7.1.2)\n",
            "Requirement already satisfied: wheel<1.0,>=0.23.0 in /usr/local/lib/python3.8/dist-packages (from astunparse>=1.6.0->tensorflow>=2.10->mediapipe-model-maker) (0.38.4)\n",
            "Requirement already satisfied: zipp in /usr/local/lib/python3.8/dist-packages (from etils[enp,epath]>=0.9.0->tensorflow-datasets->mediapipe-model-maker) (3.11.0)\n",
            "Requirement already satisfied: google-api-core!=2.0.*,!=2.1.*,!=2.2.*,!=2.3.0,<3.0.0dev,>=1.31.5 in /usr/local/lib/python3.8/dist-packages (from google-api-python-client>=1.6.7->tf-models-official>=2.10.1->mediapipe-model-maker) (2.11.0)\n",
            "Requirement already satisfied: uritemplate<5,>=3.0.1 in /usr/local/lib/python3.8/dist-packages (from google-api-python-client>=1.6.7->tf-models-official>=2.10.1->mediapipe-model-maker) (4.1.1)\n",
            "Requirement already satisfied: httplib2<1dev,>=0.15.0 in /usr/local/lib/python3.8/dist-packages (from google-api-python-client>=1.6.7->tf-models-official>=2.10.1->mediapipe-model-maker) (0.17.4)\n",
            "Requirement already satisfied: google-auth<3.0.0dev,>=1.19.0 in /usr/local/lib/python3.8/dist-packages (from google-api-python-client>=1.6.7->tf-models-official>=2.10.1->mediapipe-model-maker) (2.15.0)\n",
            "Requirement already satisfied: google-auth-httplib2>=0.1.0 in /usr/local/lib/python3.8/dist-packages (from google-api-python-client>=1.6.7->tf-models-official>=2.10.1->mediapipe-model-maker) (0.1.0)\n",
            "Requirement already satisfied: python-slugify in /usr/local/lib/python3.8/dist-packages (from kaggle>=1.3.9->tf-models-official>=2.10.1->mediapipe-model-maker) (7.0.0)\n",
            "Requirement already satisfied: urllib3 in /usr/local/lib/python3.8/dist-packages (from kaggle>=1.3.9->tf-models-official>=2.10.1->mediapipe-model-maker) (1.24.3)\n",
            "Requirement already satisfied: certifi in /usr/local/lib/python3.8/dist-packages (from kaggle>=1.3.9->tf-models-official>=2.10.1->mediapipe-model-maker) (2022.12.7)\n",
            "Requirement already satisfied: python-dateutil in /usr/local/lib/python3.8/dist-packages (from kaggle>=1.3.9->tf-models-official>=2.10.1->mediapipe-model-maker) (2.8.2)\n",
            "Requirement already satisfied: pytz>=2017.3 in /usr/local/lib/python3.8/dist-packages (from pandas>=0.22.0->tf-models-official>=2.10.1->mediapipe-model-maker) (2022.7)\n",
            "Requirement already satisfied: chardet<5,>=3.0.2 in /usr/local/lib/python3.8/dist-packages (from requests>=2.19.0->tensorflow-datasets->mediapipe-model-maker) (4.0.0)\n",
            "Requirement already satisfied: idna<3,>=2.5 in /usr/local/lib/python3.8/dist-packages (from requests>=2.19.0->tensorflow-datasets->mediapipe-model-maker) (2.10)\n",
            "Requirement already satisfied: google-auth-oauthlib<0.5,>=0.4.1 in /usr/local/lib/python3.8/dist-packages (from tensorboard<2.12,>=2.11->tensorflow>=2.10->mediapipe-model-maker) (0.4.6)\n",
            "Requirement already satisfied: werkzeug>=1.0.1 in /usr/local/lib/python3.8/dist-packages (from tensorboard<2.12,>=2.11->tensorflow>=2.10->mediapipe-model-maker) (1.0.1)\n",
            "Requirement already satisfied: markdown>=2.6.8 in /usr/local/lib/python3.8/dist-packages (from tensorboard<2.12,>=2.11->tensorflow>=2.10->mediapipe-model-maker) (3.4.1)\n",
            "Requirement already satisfied: tensorboard-data-server<0.7.0,>=0.6.0 in /usr/local/lib/python3.8/dist-packages (from tensorboard<2.12,>=2.11->tensorflow>=2.10->mediapipe-model-maker) (0.6.1)\n",
            "Requirement already satisfied: tensorboard-plugin-wit>=1.6.0 in /usr/local/lib/python3.8/dist-packages (from tensorboard<2.12,>=2.11->tensorflow>=2.10->mediapipe-model-maker) (1.8.1)\n",
            "Requirement already satisfied: kiwisolver>=1.0.1 in /usr/local/lib/python3.8/dist-packages (from matplotlib->mediapipe==0.9.0.1->mediapipe-model-maker) (1.4.4)\n",
            "Requirement already satisfied: pyparsing!=2.0.4,!=2.1.2,!=2.1.6,>=2.0.1 in /usr/local/lib/python3.8/dist-packages (from matplotlib->mediapipe==0.9.0.1->mediapipe-model-maker) (3.0.9)\n",
            "Requirement already satisfied: cycler>=0.10 in /usr/local/lib/python3.8/dist-packages (from matplotlib->mediapipe==0.9.0.1->mediapipe-model-maker) (0.11.0)\n",
            "Requirement already satisfied: pyasn1>=0.1.7 in /usr/local/lib/python3.8/dist-packages (from oauth2client->tf-models-official>=2.10.1->mediapipe-model-maker) (0.4.8)\n",
            "Requirement already satisfied: pyasn1-modules>=0.0.5 in /usr/local/lib/python3.8/dist-packages (from oauth2client->tf-models-official>=2.10.1->mediapipe-model-maker) (0.2.8)\n",
            "Requirement already satisfied: rsa>=3.1.4 in /usr/local/lib/python3.8/dist-packages (from oauth2client->tf-models-official>=2.10.1->mediapipe-model-maker) (4.9)\n",
            "Requirement already satisfied: lxml in /usr/local/lib/python3.8/dist-packages (from sacrebleu->tf-models-official>=2.10.1->mediapipe-model-maker) (4.9.2)\n",
            "Requirement already satisfied: tabulate>=0.8.9 in /usr/local/lib/python3.8/dist-packages (from sacrebleu->tf-models-official>=2.10.1->mediapipe-model-maker) (0.8.10)\n",
            "Requirement already satisfied: colorama in /usr/local/lib/python3.8/dist-packages (from sacrebleu->tf-models-official>=2.10.1->mediapipe-model-maker) (0.4.6)\n",
            "Requirement already satisfied: portalocker in /usr/local/lib/python3.8/dist-packages (from sacrebleu->tf-models-official>=2.10.1->mediapipe-model-maker) (2.6.0)\n",
            "Requirement already satisfied: regex in /usr/local/lib/python3.8/dist-packages (from sacrebleu->tf-models-official>=2.10.1->mediapipe-model-maker) (2022.6.2)\n",
            "Requirement already satisfied: scikit-learn>=0.21.3 in /usr/local/lib/python3.8/dist-packages (from seqeval->tf-models-official>=2.10.1->mediapipe-model-maker) (1.0.2)\n",
            "Requirement already satisfied: typeguard>=2.7 in /usr/local/lib/python3.8/dist-packages (from tensorflow-addons->tf-models-official>=2.10.1->mediapipe-model-maker) (2.7.1)\n",
            "Requirement already satisfied: googleapis-common-protos<2,>=1.52.0 in /usr/local/lib/python3.8/dist-packages (from tensorflow-metadata->tensorflow-datasets->mediapipe-model-maker) (1.57.1)\n",
            "Requirement already satisfied: cachetools<6.0,>=2.0.0 in /usr/local/lib/python3.8/dist-packages (from google-auth<3.0.0dev,>=1.19.0->google-api-python-client>=1.6.7->tf-models-official>=2.10.1->mediapipe-model-maker) (5.2.0)\n",
            "Requirement already satisfied: requests-oauthlib>=0.7.0 in /usr/local/lib/python3.8/dist-packages (from google-auth-oauthlib<0.5,>=0.4.1->tensorboard<2.12,>=2.11->tensorflow>=2.10->mediapipe-model-maker) (1.3.1)\n",
            "Requirement already satisfied: importlib-metadata>=4.4 in /usr/local/lib/python3.8/dist-packages (from markdown>=2.6.8->tensorboard<2.12,>=2.11->tensorflow>=2.10->mediapipe-model-maker) (6.0.0)\n",
            "Requirement already satisfied: threadpoolctl>=2.0.0 in /usr/local/lib/python3.8/dist-packages (from scikit-learn>=0.21.3->seqeval->tf-models-official>=2.10.1->mediapipe-model-maker) (3.1.0)\n",
            "Requirement already satisfied: joblib>=0.11 in /usr/local/lib/python3.8/dist-packages (from scikit-learn>=0.21.3->seqeval->tf-models-official>=2.10.1->mediapipe-model-maker) (1.2.0)\n",
            "Requirement already satisfied: text-unidecode>=1.3 in /usr/local/lib/python3.8/dist-packages (from python-slugify->kaggle>=1.3.9->tf-models-official>=2.10.1->mediapipe-model-maker) (1.3)\n",
            "Requirement already satisfied: oauthlib>=3.0.0 in /usr/local/lib/python3.8/dist-packages (from requests-oauthlib>=0.7.0->google-auth-oauthlib<0.5,>=0.4.1->tensorboard<2.12,>=2.11->tensorflow>=2.10->mediapipe-model-maker) (3.2.2)\n"
          ]
        }
      ]
    },
    {
      "cell_type": "code",
      "source": [
        "from google.colab import files\n",
        "import os\n",
        "import tensorflow as tf\n",
        "assert tf.__version__.startswith('2')\n",
        "\n",
        "from mediapipe_model_maker import gesture_recognizer\n",
        "\n",
        "import matplotlib.pyplot as plt"
      ],
      "metadata": {
        "id": "O5GIrykBT8UN"
      },
      "execution_count": null,
      "outputs": []
    },
    {
      "cell_type": "code",
      "source": [
        "from google.colab import drive\n",
        "drive.mount('/content/drive')"
      ],
      "metadata": {
        "colab": {
          "base_uri": "https://localhost:8080/"
        },
        "id": "yo7Ro9WEU2-a",
        "outputId": "2ce8a875-86f5-472f-bcef-958762125415"
      },
      "execution_count": null,
      "outputs": [
        {
          "output_type": "stream",
          "name": "stdout",
          "text": [
            "Drive already mounted at /content/drive; to attempt to forcibly remount, call drive.mount(\"/content/drive\", force_remount=True).\n"
          ]
        }
      ]
    },
    {
      "cell_type": "code",
      "source": [
        "directory_path = '/content/drive/MyDrive/Colab Notebooks/data'\n",
        "directory_files = os.listdir(directory_path)\n",
        "print(directory_files)\n",
        "print(len(directory_files))"
      ],
      "metadata": {
        "colab": {
          "base_uri": "https://localhost:8080/"
        },
        "id": "lYmM54PAVakU",
        "outputId": "9d3a036c-c04e-4325-ac31-66ecd08f5e51"
      },
      "execution_count": null,
      "outputs": [
        {
          "output_type": "stream",
          "name": "stdout",
          "text": [
            "['train_val_stop', 'train_val_peace', 'train_val_peace_inverted', 'train_val_palm', 'train_val_rock', 'train_val_two_up', 'train_val_three2', 'train_val_two_up_inverted', 'train_val_three', 'train_val_stop_inverted', 'train_val_like', 'train_val_mute', 'train_val_one', 'train_val_four', 'train_val_call', 'train_val_ok', 'train_val_dislike', 'train_val_fist', 'train_val_zero']\n",
            "19\n"
          ]
        }
      ]
    },
    {
      "cell_type": "code",
      "source": [
        "import shutil\n",
        "def listdir(dir):\n",
        "  return [f for f in os.listdir(dir) if not f.startswith('.')]\n",
        "  \n",
        "NONE_LABELS = ['train_val_peace', 'train_val_peace_inverted', 'train_val_stop', 'train_val_stop_inverted', 'train_val_three', 'train_val_three2', 'train_val_two_up', 'train_val_two_up_inverted']\n",
        "IMGS_KEEP = 100\n",
        "source_path = \"/content/drive/MyDrive/Colab Notebooks/data\"\n",
        "result_path = \"/content/drive/MyDrive/Colab Notebooks/gesture_recognizer_dataset\"\n",
        "if os.path.exists(result_path):\n",
        "  shutil.rmtree(result_path)\n",
        "os.mkdir(result_path)\n",
        "for s_gest_name in listdir(source_path):\n",
        "  s_gest_dir = os.path.join(source_path, s_gest_name)\n",
        "  s_imgs = listdir(s_gest_dir)[:]\n",
        "  if s_gest_name in NONE_LABELS:\n",
        "    r_gest_dir = os.path.join(result_path, 'none')\n",
        "  else:\n",
        "    r_gest_dir = os.path.join(result_path, s_gest_name[len(\"train_val_\"):])\n",
        "  if not os.path.exists(r_gest_dir):\n",
        "    os.mkdir(r_gest_dir)\n",
        "  for img_name in s_imgs:\n",
        "    shutil.copy(os.path.join(s_gest_dir, img_name), r_gest_dir)\n",
        "dataset_path = result_path"
      ],
      "metadata": {
        "id": "tCLSOLDeWFlY"
      },
      "execution_count": null,
      "outputs": []
    },
    {
      "cell_type": "code",
      "source": [
        "dataset_path"
      ],
      "metadata": {
        "id": "kJ_3g_VIe20B",
        "colab": {
          "base_uri": "https://localhost:8080/",
          "height": 35
        },
        "outputId": "45cd428b-77d0-4368-ee29-78ed5abe48af"
      },
      "execution_count": null,
      "outputs": [
        {
          "output_type": "execute_result",
          "data": {
            "text/plain": [
              "'/content/drive/MyDrive/Colab Notebooks/gesture_recognizer_dataset'"
            ],
            "application/vnd.google.colaboratory.intrinsic+json": {
              "type": "string"
            }
          },
          "metadata": {},
          "execution_count": 8
        }
      ]
    },
    {
      "cell_type": "code",
      "source": [
        "print(dataset_path)\n",
        "labels = []\n",
        "for i in os.listdir(dataset_path):\n",
        "  if os.path.isdir(os.path.join(dataset_path, i)):\n",
        "    labels.append(i)\n",
        "print(labels)"
      ],
      "metadata": {
        "id": "NMyFQ7iccxUD",
        "colab": {
          "base_uri": "https://localhost:8080/"
        },
        "outputId": "114b236c-ffee-4a12-dfa2-d15527967e7d"
      },
      "execution_count": null,
      "outputs": [
        {
          "output_type": "stream",
          "name": "stdout",
          "text": [
            "/content/drive/MyDrive/Colab Notebooks/gesture_recognizer_dataset\n",
            "['none', 'palm', 'rock', 'like', 'mute', 'one', 'four', 'call', 'ok', 'dislike', 'fist', 'zero']\n"
          ]
        }
      ]
    },
    {
      "cell_type": "code",
      "source": [
        "# NUM_EXAMPLES = 5\n",
        "\n",
        "# for label in labels:\n",
        "#   label_dir = os.path.join(dataset_path, label)\n",
        "#   example_filenames = os.listdir(label_dir)[:NUM_EXAMPLES]\n",
        "#   fig, axs = plt.subplots(1, NUM_EXAMPLES, figsize=(10,2))\n",
        "#   for i in range(NUM_EXAMPLES):\n",
        "#     axs[i].imshow(plt.imread(os.path.join(label_dir, example_filenames[i])))\n",
        "#     axs[i].get_xaxis().set_visible(False)\n",
        "#     axs[i].get_yaxis().set_visible(False)\n",
        "#   fig.suptitle(f'Showing {NUM_EXAMPLES} examples for {label}')\n",
        "\n",
        "# plt.show()"
      ],
      "metadata": {
        "id": "VEXMU6ikeg0R"
      },
      "execution_count": null,
      "outputs": []
    },
    {
      "cell_type": "markdown",
      "source": [
        "### Load the Dataset"
      ],
      "metadata": {
        "id": "Xz1u6IoJfIGZ"
      }
    },
    {
      "cell_type": "code",
      "source": [
        "data = gesture_recognizer.Dataset.from_folder(\n",
        "    dirname=dataset_path,\n",
        "    hparams=gesture_recognizer.HandDataPreprocessingParams()\n",
        ")\n",
        "train_data, rest_data = data.split(0.8)\n",
        "validation_data, test_data = rest_data.split(0.5)"
      ],
      "metadata": {
        "id": "ECuoxclae9Ax",
        "colab": {
          "base_uri": "https://localhost:8080/"
        },
        "outputId": "b91e88bb-72e0-49fd-b0c2-0d981ee122d4"
      },
      "execution_count": null,
      "outputs": [
        {
          "output_type": "stream",
          "name": "stderr",
          "text": [
            "WARNING:tensorflow:From /usr/local/lib/python3.8/dist-packages/tensorflow/python/autograph/pyct/static_analysis/liveness.py:83: Analyzer.lamba_check (from tensorflow.python.autograph.pyct.static_analysis.liveness) is deprecated and will be removed after 2023-09-23.\n",
            "Instructions for updating:\n",
            "Lambda fuctions will be no more assumed to be used in the statement where they are used, or at least in the same block. https://github.com/tensorflow/tensorflow/issues/56089\n"
          ]
        }
      ]
    },
    {
      "cell_type": "markdown",
      "source": [
        "### Train the Model"
      ],
      "metadata": {
        "id": "ipZX-PCdfUP8"
      }
    },
    {
      "cell_type": "code",
      "source": [
        "hparams = gesture_recognizer.HParams(epochs=20,export_dir=\"exported_model\")\n",
        "model_options = gesture_recognizer.ModelOptions()\n",
        "options = gesture_recognizer.GestureRecognizerOptions(hparams=hparams,model_options=model_options)\n",
        "\n",
        "model = gesture_recognizer.GestureRecognizer.create(\n",
        "    train_data=train_data,\n",
        "    validation_data=validation_data,\n",
        "    options=options\n",
        ")"
      ],
      "metadata": {
        "id": "R1L0B7uUfKaG",
        "colab": {
          "base_uri": "https://localhost:8080/"
        },
        "outputId": "b73d2dda-2c09-43df-b41d-febcd126f3be"
      },
      "execution_count": null,
      "outputs": [
        {
          "output_type": "stream",
          "name": "stdout",
          "text": [
            "Model: \"model_1\"\n",
            "_________________________________________________________________\n",
            " Layer (type)                Output Shape              Param #   \n",
            "=================================================================\n",
            " hand_embedding (InputLayer)  [(None, 128)]            0         \n",
            "                                                                 \n",
            " batch_normalization_1 (Batc  (None, 128)              512       \n",
            " hNormalization)                                                 \n",
            "                                                                 \n",
            " re_lu_1 (ReLU)              (None, 128)               0         \n",
            "                                                                 \n",
            " dropout_1 (Dropout)         (None, 128)               0         \n",
            "                                                                 \n",
            " custom_gesture_recognizer_o  (None, 12)               1548      \n",
            " ut (Dense)                                                      \n",
            "                                                                 \n",
            "=================================================================\n",
            "Total params: 2,060\n",
            "Trainable params: 1,804\n",
            "Non-trainable params: 256\n",
            "_________________________________________________________________\n",
            "None\n",
            "Resuming from exported_model/epoch_models/model-0020\n",
            "Epoch 1/20\n",
            "624/624 [==============================] - 6s 6ms/step - loss: 0.4572 - categorical_accuracy: 0.7885 - val_loss: 0.5589 - val_categorical_accuracy: 0.8077 - lr: 0.0010\n",
            "Epoch 2/20\n",
            "624/624 [==============================] - 3s 5ms/step - loss: 0.4429 - categorical_accuracy: 0.7949 - val_loss: 0.5773 - val_categorical_accuracy: 0.8077 - lr: 9.9000e-04\n",
            "Epoch 3/20\n",
            "624/624 [==============================] - 3s 5ms/step - loss: 0.4375 - categorical_accuracy: 0.7933 - val_loss: 0.5575 - val_categorical_accuracy: 0.8077 - lr: 9.8010e-04\n",
            "Epoch 4/20\n",
            "624/624 [==============================] - 4s 6ms/step - loss: 0.4342 - categorical_accuracy: 0.7981 - val_loss: 0.5639 - val_categorical_accuracy: 0.8141 - lr: 9.7030e-04\n",
            "Epoch 5/20\n",
            "624/624 [==============================] - 4s 6ms/step - loss: 0.4238 - categorical_accuracy: 0.7957 - val_loss: 0.5801 - val_categorical_accuracy: 0.8205 - lr: 9.6060e-04\n",
            "Epoch 6/20\n",
            "624/624 [==============================] - 4s 6ms/step - loss: 0.4263 - categorical_accuracy: 0.8053 - val_loss: 0.5899 - val_categorical_accuracy: 0.8205 - lr: 9.5099e-04\n",
            "Epoch 7/20\n",
            "624/624 [==============================] - 4s 6ms/step - loss: 0.4188 - categorical_accuracy: 0.8133 - val_loss: 0.6050 - val_categorical_accuracy: 0.8269 - lr: 9.4148e-04\n",
            "Epoch 8/20\n",
            "624/624 [==============================] - 4s 6ms/step - loss: 0.4057 - categorical_accuracy: 0.8133 - val_loss: 0.5980 - val_categorical_accuracy: 0.8205 - lr: 9.3207e-04\n",
            "Epoch 9/20\n",
            "624/624 [==============================] - 3s 5ms/step - loss: 0.4044 - categorical_accuracy: 0.8037 - val_loss: 0.5997 - val_categorical_accuracy: 0.8205 - lr: 9.2274e-04\n",
            "Epoch 10/20\n",
            "624/624 [==============================] - 4s 6ms/step - loss: 0.4028 - categorical_accuracy: 0.8101 - val_loss: 0.6110 - val_categorical_accuracy: 0.8205 - lr: 9.1352e-04\n",
            "Epoch 11/20\n",
            "624/624 [==============================] - 4s 6ms/step - loss: 0.3983 - categorical_accuracy: 0.8157 - val_loss: 0.6177 - val_categorical_accuracy: 0.8205 - lr: 9.0438e-04\n",
            "Epoch 12/20\n",
            "624/624 [==============================] - 4s 6ms/step - loss: 0.3978 - categorical_accuracy: 0.8141 - val_loss: 0.6214 - val_categorical_accuracy: 0.8141 - lr: 8.9534e-04\n",
            "Epoch 13/20\n",
            "624/624 [==============================] - 4s 6ms/step - loss: 0.3990 - categorical_accuracy: 0.8109 - val_loss: 0.6336 - val_categorical_accuracy: 0.8141 - lr: 8.8638e-04\n",
            "Epoch 14/20\n",
            "624/624 [==============================] - 4s 6ms/step - loss: 0.3944 - categorical_accuracy: 0.7997 - val_loss: 0.6335 - val_categorical_accuracy: 0.8013 - lr: 8.7752e-04\n",
            "Epoch 15/20\n",
            "624/624 [==============================] - 4s 6ms/step - loss: 0.3894 - categorical_accuracy: 0.8157 - val_loss: 0.6399 - val_categorical_accuracy: 0.8141 - lr: 8.6875e-04\n",
            "Epoch 16/20\n",
            "624/624 [==============================] - 3s 5ms/step - loss: 0.3838 - categorical_accuracy: 0.8189 - val_loss: 0.6345 - val_categorical_accuracy: 0.8077 - lr: 8.6006e-04\n",
            "Epoch 17/20\n",
            "624/624 [==============================] - 4s 6ms/step - loss: 0.3999 - categorical_accuracy: 0.8133 - val_loss: 0.6343 - val_categorical_accuracy: 0.8077 - lr: 8.5146e-04\n",
            "Epoch 18/20\n",
            "624/624 [==============================] - 4s 6ms/step - loss: 0.3794 - categorical_accuracy: 0.8205 - val_loss: 0.6484 - val_categorical_accuracy: 0.8205 - lr: 8.4294e-04\n",
            "Epoch 19/20\n",
            "624/624 [==============================] - 3s 6ms/step - loss: 0.3860 - categorical_accuracy: 0.8181 - val_loss: 0.6297 - val_categorical_accuracy: 0.8269 - lr: 8.3451e-04\n",
            "Epoch 20/20\n",
            "624/624 [==============================] - 4s 6ms/step - loss: 0.3836 - categorical_accuracy: 0.8125 - val_loss: 0.6377 - val_categorical_accuracy: 0.8141 - lr: 8.2617e-04\n"
          ]
        }
      ]
    },
    {
      "cell_type": "markdown",
      "source": [
        "### Evaluate the Model performance"
      ],
      "metadata": {
        "id": "ACiVQDaAfYLF"
      }
    },
    {
      "cell_type": "code",
      "source": [
        "loss, acc = model.evaluate(test_data, batch_size=1)\n",
        "print(f\"Test loss:{loss}, Test accuracy:{acc}\")"
      ],
      "metadata": {
        "id": "xYYewaEmfN57",
        "colab": {
          "base_uri": "https://localhost:8080/"
        },
        "outputId": "976a07ed-38be-4d05-b548-186f7efd5cb2"
      },
      "execution_count": null,
      "outputs": [
        {
          "output_type": "stream",
          "name": "stdout",
          "text": [
            "157/157 [==============================] - 1s 2ms/step - loss: 0.5745 - categorical_accuracy: 0.8089\n",
            "Test loss:0.5745160579681396, Test accuracy:0.808917224407196\n"
          ]
        }
      ]
    },
    {
      "cell_type": "markdown",
      "source": [
        "### Run the Model"
      ],
      "metadata": {
        "id": "botSL4S2fdJ5"
      }
    },
    {
      "cell_type": "code",
      "source": [
        "# STEP 1:\n",
        "import mediapipe as mp\n",
        "import cv2\n",
        "from mediapipe.tasks import python\n",
        "from mediapipe.tasks.python import vision\n",
        "from mediapipe import ImageFormat\n",
        "import numpy as np\n",
        "from PIL import Image"
      ],
      "metadata": {
        "id": "kMmsuD-5bm7K"
      },
      "execution_count": null,
      "outputs": []
    },
    {
      "cell_type": "code",
      "source": [
        "BaseOptions = mp.tasks.BaseOptions\n",
        "GestureRecognizer = mp.tasks.vision.GestureRecognizer\n",
        "GestureRecognizerOptions = mp.tasks.vision.GestureRecognizerOptions\n",
        "VisionRunningMode = mp.tasks.vision.RunningMode\n",
        "\n",
        "base_options = python.BaseOptions(model_asset_path='/content/drive/MyDrive/Colab Notebooks/gesture_recognizer.task')\n",
        "options = vision.GestureRecognizerOptions(base_options=base_options)\n",
        "recognizer = vision.GestureRecognizer.create_from_options(options)"
      ],
      "metadata": {
        "id": "PJPd0LFJb3Ok"
      },
      "execution_count": null,
      "outputs": []
    },
    {
      "cell_type": "code",
      "source": [
        "import urllib\n",
        "\n",
        "IMAGE_FILENAMES = ['thumbs_down.jpg', 'victory.jpg', 'thumbs_up.jpg', 'pointing_up.jpg']\n",
        "\n",
        "for name in IMAGE_FILENAMES:\n",
        "  url = f'https://storage.googleapis.com/mediapipe-tasks/gesture_recognizer/{name}'\n",
        "  urllib.request.urlretrieve(url, name)"
      ],
      "metadata": {
        "id": "K1B763MZuYJR"
      },
      "execution_count": null,
      "outputs": []
    },
    {
      "cell_type": "code",
      "source": [
        "for image_file_name in IMAGE_FILENAMES:\n",
        "  # STEP 3: Load the input image.\n",
        "  image = mp.Image.create_from_file(image_file_name)\n",
        "\n",
        "  # STEP 4: Recognize gestures in the input image.\n",
        "  recognition_result = recognizer.recognize(image)\n",
        "\n",
        "\n",
        "images = []\n",
        "results = []\n",
        "for image_file_name in IMAGE_FILENAMES:\n",
        "  # STEP 3: Load the input image.\n",
        "  image = mp.Image.create_from_file(image_file_name)\n",
        "\n",
        "  # STEP 4: Recognize gestures in the input image.\n",
        "  recognition_result = recognizer.recognize(image)\n",
        "\n",
        "  # STEP 5: Process the result. In this case, visualize it.\n",
        "  images.append(image)\n",
        "  top_gesture = recognition_result.gestures[0][0]\n",
        "  hand_landmarks = recognition_result.hand_landmarks\n",
        "  print(top_gesture.category_name,hand_landmarks)"
      ],
      "metadata": {
        "colab": {
          "base_uri": "https://localhost:8080/"
        },
        "id": "Wtc0TqkxdGuo",
        "outputId": "3dde5c75-96b0-45ff-fd16-b5ae1c5b534f"
      },
      "execution_count": null,
      "outputs": [
        {
          "output_type": "stream",
          "name": "stdout",
          "text": [
            "dislike [[NormalizedLandmark(x=0.3775796592235565, y=0.4484468698501587, z=-7.658888421246957e-07, visibility=0.0, presence=0.0), NormalizedLandmark(x=0.45659855008125305, y=0.5906875729560852, z=-0.12274359911680222, visibility=0.0, presence=0.0), NormalizedLandmark(x=0.5610436201095581, y=0.7097854614257812, z=-0.21682056784629822, visibility=0.0, presence=0.0), NormalizedLandmark(x=0.6087026596069336, y=0.8151220083236694, z=-0.296338826417923, visibility=0.0, presence=0.0), NormalizedLandmark(x=0.6378511190414429, y=0.908829927444458, z=-0.35788753628730774, visibility=0.0, presence=0.0), NormalizedLandmark(x=0.8904979825019836, y=0.6001406311988831, z=-0.19998541474342346, visibility=0.0, presence=0.0), NormalizedLandmark(x=0.7954009175300598, y=0.6598494052886963, z=-0.3039839267730713, visibility=0.0, presence=0.0), NormalizedLandmark(x=0.6656880378723145, y=0.6365615129470825, z=-0.335548996925354, visibility=0.0, presence=0.0), NormalizedLandmark(x=0.6671821475028992, y=0.6085880398750305, z=-0.35445836186408997, visibility=0.0, presence=0.0), NormalizedLandmark(x=0.898669421672821, y=0.5096270442008972, z=-0.19526363909244537, visibility=0.0, presence=0.0), NormalizedLandmark(x=0.75278240442276, y=0.5814493298530579, z=-0.2936910390853882, visibility=0.0, presence=0.0), NormalizedLandmark(x=0.612981379032135, y=0.5601851940155029, z=-0.3004629611968994, visibility=0.0, presence=0.0), NormalizedLandmark(x=0.6546536087989807, y=0.5412085056304932, z=-0.30732816457748413, visibility=0.0, presence=0.0), NormalizedLandmark(x=0.8554795980453491, y=0.4279521703720093, z=-0.20076903700828552, visibility=0.0, presence=0.0), NormalizedLandmark(x=0.7269594669342041, y=0.4955122172832489, z=-0.2942810356616974, visibility=0.0, presence=0.0), NormalizedLandmark(x=0.6094602346420288, y=0.4916418492794037, z=-0.26329225301742554, visibility=0.0, presence=0.0), NormalizedLandmark(x=0.6465423703193665, y=0.47868800163269043, z=-0.24249880015850067, visibility=0.0, presence=0.0), NormalizedLandmark(x=0.7972978353500366, y=0.35576874017715454, z=-0.21797560155391693, visibility=0.0, presence=0.0), NormalizedLandmark(x=0.6930086612701416, y=0.40036165714263916, z=-0.27921369671821594, visibility=0.0, presence=0.0), NormalizedLandmark(x=0.6115598678588867, y=0.4121805429458618, z=-0.2648589015007019, visibility=0.0, presence=0.0), NormalizedLandmark(x=0.6311843395233154, y=0.40035271644592285, z=-0.25259679555892944, visibility=0.0, presence=0.0)]]\n",
            "none [[NormalizedLandmark(x=0.29006657004356384, y=0.7537738084793091, z=1.3081638599032885e-06, visibility=0.0, presence=0.0), NormalizedLandmark(x=0.3464873135089874, y=0.7565566897392273, z=-0.06884997338056564, visibility=0.0, presence=0.0), NormalizedLandmark(x=0.37015923857688904, y=0.7415686249732971, z=-0.11726783215999603, visibility=0.0, presence=0.0), NormalizedLandmark(x=0.3325590193271637, y=0.7438605427742004, z=-0.16192154586315155, visibility=0.0, presence=0.0), NormalizedLandmark(x=0.2897103726863861, y=0.7407431602478027, z=-0.20769019424915314, visibility=0.0, presence=0.0), NormalizedLandmark(x=0.355289101600647, y=0.6068956851959229, z=-0.0963272824883461, visibility=0.0, presence=0.0), NormalizedLandmark(x=0.39025449752807617, y=0.5148391723632812, z=-0.15336254239082336, visibility=0.0, presence=0.0), NormalizedLandmark(x=0.4061645269393921, y=0.45532894134521484, z=-0.187421053647995, visibility=0.0, presence=0.0), NormalizedLandmark(x=0.4157262444496155, y=0.4014909863471985, z=-0.20737971365451813, visibility=0.0, presence=0.0), NormalizedLandmark(x=0.2939787209033966, y=0.5985612273216248, z=-0.09456905722618103, visibility=0.0, presence=0.0), NormalizedLandmark(x=0.26575976610183716, y=0.4987431466579437, z=-0.16083553433418274, visibility=0.0, presence=0.0), NormalizedLandmark(x=0.24317823350429535, y=0.435391902923584, z=-0.1966036707162857, visibility=0.0, presence=0.0), NormalizedLandmark(x=0.22362510859966278, y=0.37949949502944946, z=-0.21037468314170837, visibility=0.0, presence=0.0), NormalizedLandmark(x=0.2461073100566864, y=0.6178012490272522, z=-0.09706263989210129, visibility=0.0, presence=0.0), NormalizedLandmark(x=0.21197515726089478, y=0.6028071641921997, z=-0.1799578070640564, visibility=0.0, presence=0.0), NormalizedLandmark(x=0.22757136821746826, y=0.6748960018157959, z=-0.19534307718276978, visibility=0.0, presence=0.0), NormalizedLandmark(x=0.24434995651245117, y=0.7214558124542236, z=-0.1814853549003601, visibility=0.0, presence=0.0), NormalizedLandmark(x=0.21402908861637115, y=0.6527664065361023, z=-0.1028958112001419, visibility=0.0, presence=0.0), NormalizedLandmark(x=0.19053001701831818, y=0.6566177606582642, z=-0.16729818284511566, visibility=0.0, presence=0.0), NormalizedLandmark(x=0.20500102639198303, y=0.7108627557754517, z=-0.16878335177898407, visibility=0.0, presence=0.0), NormalizedLandmark(x=0.22254207730293274, y=0.7485269904136658, z=-0.1525956094264984, visibility=0.0, presence=0.0)]]\n",
            "call [[NormalizedLandmark(x=0.6196178793907166, y=0.7211071252822876, z=-3.762293658837734e-07, visibility=0.0, presence=0.0), NormalizedLandmark(x=0.6102960109710693, y=0.6619825959205627, z=-0.009829414077103138, visibility=0.0, presence=0.0), NormalizedLandmark(x=0.6238461136817932, y=0.6096316576004028, z=-0.021739449352025986, visibility=0.0, presence=0.0), NormalizedLandmark(x=0.6461718678474426, y=0.5676347613334656, z=-0.03227386996150017, visibility=0.0, presence=0.0), NormalizedLandmark(x=0.6482250094413757, y=0.533000648021698, z=-0.04108726233243942, visibility=0.0, presence=0.0), NormalizedLandmark(x=0.6985287666320801, y=0.6047378778457642, z=-0.02406020648777485, visibility=0.0, presence=0.0), NormalizedLandmark(x=0.7114531993865967, y=0.6274888515472412, z=-0.023742148652672768, visibility=0.0, presence=0.0), NormalizedLandmark(x=0.6941179037094116, y=0.6461876630783081, z=-0.021992100402712822, visibility=0.0, presence=0.0), NormalizedLandmark(x=0.6768487691879272, y=0.6524445414543152, z=-0.022656595334410667, visibility=0.0, presence=0.0), NormalizedLandmark(x=0.7208747267723083, y=0.6324885487556458, z=-0.024184104055166245, visibility=0.0, presence=0.0), NormalizedLandmark(x=0.720399796962738, y=0.6543444991111755, z=-0.01705022156238556, visibility=0.0, presence=0.0), NormalizedLandmark(x=0.6991717219352722, y=0.6678828597068787, z=-0.014013541862368584, visibility=0.0, presence=0.0), NormalizedLandmark(x=0.6821487545967102, y=0.6724522113800049, z=-0.01708195172250271, visibility=0.0, presence=0.0), NormalizedLandmark(x=0.7301913499832153, y=0.6652137637138367, z=-0.023189503699541092, visibility=0.0, presence=0.0), NormalizedLandmark(x=0.7257784605026245, y=0.6785851716995239, z=-0.016822965815663338, visibility=0.0, presence=0.0), NormalizedLandmark(x=0.7075475454330444, y=0.6901916265487671, z=-0.014099587686359882, visibility=0.0, presence=0.0), NormalizedLandmark(x=0.689790666103363, y=0.6949362754821777, z=-0.017405634745955467, visibility=0.0, presence=0.0), NormalizedLandmark(x=0.7330417037010193, y=0.6980583071708679, z=-0.023248005658388138, visibility=0.0, presence=0.0), NormalizedLandmark(x=0.7315150499343872, y=0.7071034908294678, z=-0.018476417288184166, visibility=0.0, presence=0.0), NormalizedLandmark(x=0.715226411819458, y=0.7147545218467712, z=-0.014119013212621212, visibility=0.0, presence=0.0), NormalizedLandmark(x=0.699634850025177, y=0.7179585695266724, z=-0.012739486061036587, visibility=0.0, presence=0.0)]]\n",
            "one [[NormalizedLandmark(x=0.7972618937492371, y=0.32298630475997925, z=-1.672752318881976e-07, visibility=0.0, presence=0.0), NormalizedLandmark(x=0.7600005269050598, y=0.29947429895401, z=-0.013863267377018929, visibility=0.0, presence=0.0), NormalizedLandmark(x=0.7356868982315063, y=0.25423651933670044, z=-0.01908920705318451, visibility=0.0, presence=0.0), NormalizedLandmark(x=0.7380164265632629, y=0.21671146154403687, z=-0.024660877883434296, visibility=0.0, presence=0.0), NormalizedLandmark(x=0.7492200136184692, y=0.1890578716993332, z=-0.028401808813214302, visibility=0.0, presence=0.0), NormalizedLandmark(x=0.7368764281272888, y=0.20000594854354858, z=-0.009838939644396305, visibility=0.0, presence=0.0), NormalizedLandmark(x=0.7187178134918213, y=0.13618427515029907, z=-0.02815200388431549, visibility=0.0, presence=0.0), NormalizedLandmark(x=0.7103769779205322, y=0.10019457340240479, z=-0.0407104529440403, visibility=0.0, presence=0.0), NormalizedLandmark(x=0.7084639668464661, y=0.07063296437263489, z=-0.05007849633693695, visibility=0.0, presence=0.0), NormalizedLandmark(x=0.767693817615509, y=0.20380799472332, z=-0.011349421925842762, visibility=0.0, presence=0.0), NormalizedLandmark(x=0.7686971426010132, y=0.1671314835548401, z=-0.04022323340177536, visibility=0.0, presence=0.0), NormalizedLandmark(x=0.7707744836807251, y=0.20929600298404694, z=-0.047007959336042404, visibility=0.0, presence=0.0), NormalizedLandmark(x=0.7723340392112732, y=0.23985682427883148, z=-0.04467952996492386, visibility=0.0, presence=0.0), NormalizedLandmark(x=0.7964810132980347, y=0.21254898607730865, z=-0.015282024629414082, visibility=0.0, presence=0.0), NormalizedLandmark(x=0.8010473251342773, y=0.17552237212657928, z=-0.041450440883636475, visibility=0.0, presence=0.0), NormalizedLandmark(x=0.794003427028656, y=0.21365945041179657, z=-0.03494030982255936, visibility=0.0, presence=0.0), NormalizedLandmark(x=0.7900680303573608, y=0.24202561378479004, z=-0.023477742448449135, visibility=0.0, presence=0.0), NormalizedLandmark(x=0.8223875164985657, y=0.2256048619747162, z=-0.020712221041321754, visibility=0.0, presence=0.0), NormalizedLandmark(x=0.8214187622070312, y=0.2014082670211792, z=-0.04102073237299919, visibility=0.0, presence=0.0), NormalizedLandmark(x=0.8100069165229797, y=0.22409847378730774, z=-0.03779901564121246, visibility=0.0, presence=0.0), NormalizedLandmark(x=0.8043333292007446, y=0.24462243914604187, z=-0.030296744778752327, visibility=0.0, presence=0.0)]]\n"
          ]
        }
      ]
    },
    {
      "cell_type": "code",
      "source": [],
      "metadata": {
        "id": "KsDp-P2swOjU"
      },
      "execution_count": null,
      "outputs": []
    }
  ]
}